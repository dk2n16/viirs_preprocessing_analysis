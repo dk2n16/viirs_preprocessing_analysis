{
 "cells": [
  {
   "cell_type": "code",
   "execution_count": 15,
   "metadata": {},
   "outputs": [
    {
     "data": {
      "text/plain": [
       "[PosixPath('/jupyter_test/download_viirs_iridis/download_viirs_iridis/datain/2016/01/SVDNB_npp_20160101-20160131_75N180W_vcmcfg_v10_c201603132032.avg_rade9h.tif'),\n",
       " PosixPath('/jupyter_test/download_viirs_iridis/download_viirs_iridis/datain/2016/02/SVDNB_npp_20160201-20160229_75N180W_vcmcfg_v10_c201603152010.avg_rade9h.tif'),\n",
       " PosixPath('/jupyter_test/download_viirs_iridis/download_viirs_iridis/datain/2016/03/SVDNB_npp_20160301-20160331_75N180W_vcmcfg_v10_c201604191144.avg_rade9h.tif'),\n",
       " PosixPath('/jupyter_test/download_viirs_iridis/download_viirs_iridis/datain/2016/04/SVDNB_npp_20160401-20160430_75N180W_vcmcfg_v10_c201606140957.avg_rade9h.tif'),\n",
       " PosixPath('/jupyter_test/download_viirs_iridis/download_viirs_iridis/datain/2016/05/SVDNB_npp_20160501-20160531_75N180W_vcmcfg_v10_c201606281430.avg_rade9h.tif'),\n",
       " PosixPath('/jupyter_test/download_viirs_iridis/download_viirs_iridis/datain/2016/06/SVDNB_npp_20160601-20160630_75N180W_vcmcfg_v10_c201608101832.avg_rade9h.tif'),\n",
       " PosixPath('/jupyter_test/download_viirs_iridis/download_viirs_iridis/datain/2016/07/SVDNB_npp_20160701-20160731_75N180W_vcmcfg_v10_c201609121310.avg_rade9h.tif'),\n",
       " PosixPath('/jupyter_test/download_viirs_iridis/download_viirs_iridis/datain/2016/08/SVDNB_npp_20160801-20160831_75N180W_vcmcfg_v10_c201610041107.avg_rade9h.tif'),\n",
       " PosixPath('/jupyter_test/download_viirs_iridis/download_viirs_iridis/datain/2016/09/SVDNB_npp_20160901-20160930_75N180W_vcmcfg_v10_c201610280941.avg_rade9h.tif'),\n",
       " PosixPath('/jupyter_test/download_viirs_iridis/download_viirs_iridis/datain/2016/10/SVDNB_npp_20161001-20161031_75N180W_vcmcfg_v10_c201612011122.avg_rade9h.tif'),\n",
       " PosixPath('/jupyter_test/download_viirs_iridis/download_viirs_iridis/datain/2016/11/SVDNB_npp_20161101-20161130_75N180W_vcmcfg_v10_c201612191231.avg_rade9h.tif'),\n",
       " PosixPath('/jupyter_test/download_viirs_iridis/download_viirs_iridis/datain/2016/12/SVDNB_npp_20161201-20161231_75N180W_vcmcfg_v10_c201701271136.avg_rade9h.tif')]"
      ]
     },
     "execution_count": 15,
     "metadata": {},
     "output_type": "execute_result"
    }
   ],
   "source": [
    "from pathlib import Path\n",
    "\n",
    "BASEDIR = Path('.').resolve().parent.parent.parent\n",
    "DIR = BASEDIR.joinpath('download_viirs_iridis/download_viirs_iridis/datain/2016')\n",
    "rasters = [[x for x in y.iterdir() if x.name.endswith('rade9h.tif') if '75N180W' in x.name][0] for y in DIR.iterdir() if not y.name == 'ANNUAL_Composite_2016']\n",
    "sorted(rasters)"
   ]
  },
  {
   "cell_type": "code",
   "execution_count": 16,
   "metadata": {},
   "outputs": [],
   "source": [
    "import rasterio\n",
    "import fiona\n",
    "import rasterio.mask\n",
    "import numpy as np\n",
    "from pathlib import Path\n",
    "BASEDIR = Path('.').resolve().parent.parent.parent\n",
    "shp = BASEDIR.joinpath('viirs_preprocessing_analysis/viirs_preprocessing_analysis/shps/L0/HTI/hti_level0_2000_2020.shp')\n",
    "raster = BASEDIR.joinpath('download_viirs_iridis/download_viirs_iridis/datain/2012/04/SVDNB_npp_20120401-20120430_75N180W_vcmcfg_v10_c201605121456.avg_rade9h.tif')\n",
    "\n",
    "with fiona.open(shp, 'r') as s:\n",
    "    features = [feature[\"geometry\"] for feature in s]\n",
    "\n",
    "with rasterio.open(raster) as r:\n",
    "    out_image, out_transform = rasterio.mask.mask(r, features, nodata=-99999, crop=True)\n",
    "    out_meta = r.meta.copy()\n",
    "out_meta.update({\n",
    "    \"driver\": \"GTiff\",\n",
    "    \"height\": out_image.shape[1],\n",
    "    \"width\": out_image.shape[2],\n",
    "    \"transform\": out_transform,\n",
    "    \"count\": 1,\n",
    "    \"compress\": 'lzw',\n",
    "    \"predictor\": 2,\n",
    "    \"bigtiff\": \"yes\",\n",
    "    'nodata': -99999\n",
    "})\n",
    "\n",
    "with rasterio.open('TEST_nd.tif', 'w', **out_meta) as dst:\n",
    "    dst.write(out_image)"
   ]
  }
 ],
 "metadata": {
  "kernelspec": {
   "display_name": "Python 3",
   "language": "python",
   "name": "python3"
  },
  "language_info": {
   "codemirror_mode": {
    "name": "ipython",
    "version": 3
   },
   "file_extension": ".py",
   "mimetype": "text/x-python",
   "name": "python",
   "nbconvert_exporter": "python",
   "pygments_lexer": "ipython3",
   "version": "3.6.7"
  }
 },
 "nbformat": 4,
 "nbformat_minor": 2
}
