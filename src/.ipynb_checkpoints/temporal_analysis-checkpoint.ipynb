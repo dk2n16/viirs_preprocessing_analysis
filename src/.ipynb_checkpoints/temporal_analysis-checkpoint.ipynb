{
 "cells": [
  {
   "cell_type": "code",
   "execution_count": 31,
   "metadata": {},
   "outputs": [
    {
     "data": {
      "image/png": "[encoded data removed]",
      "text/plain": [
       "<Figure size 648x432 with 1 Axes>"
      ]
     },
     "metadata": {
      "needs_background": "light"
     },
     "output_type": "display_data"
    }
   ],
   "source": [
    "from pathlib import Path\n",
    "import numpy as np\n",
    "import pandas as pd\n",
    "import rasterio\n",
    "import seaborn as sns\n",
    "import matplotlib as mpl\n",
    "import matplotlib.pyplot as plt \n",
    "from sklearn.preprocessing import scale\n",
    "\n",
    "BASEDIR = Path('.').resolve().parent\n",
    "adm_units = sorted(['_'.join(x.name.split('_')[:3]) for x in BASEDIR.joinpath('datain/HTI/2012/04/subnational/l1').iterdir() if x.name.endswith('.tif')])\n",
    "#adm_units = ['HTI_Artibonite_1149']\n",
    "months = sorted([x.name for x in BASEDIR.joinpath('datain/HTI/2013').iterdir() if not 'Annual' in x.name])\n",
    "#months = ['05','06','07']\n",
    "years = sorted([x.name for x in BASEDIR.joinpath('datain/HTI').iterdir()])\n",
    "\n",
    "for unit in adm_units:\n",
    "    temporal_units = []\n",
    "    monthly_units = []\n",
    "    data_array = np.array\n",
    "    for month in months:\n",
    "        #for year in years:\n",
    "        for year in ['2016']:\n",
    "            raster = BASEDIR.joinpath(f'datain/HTI/{year}/{month}/subnational/l1/{unit}_{month}_{year}.tif')\n",
    "            if raster.exists():\n",
    "                with rasterio.open(raster) as src:\n",
    "                    data = src.read(1)\n",
    "                    data = data[np.where((data!= -99999)& (data!=0))]\n",
    "                    #data = data[np.where((data> -99999))]\n",
    "                    monthly_units.append(data)\n",
    "        stack_month = np.concatenate(tuple(monthly_units), axis=0)\n",
    "        temporal_units.append(stack_month)\n",
    "    #sns.boxplot(data=temporal_units)\n",
    "    fig = plt.figure(figsize=(9,6))\n",
    "    ax = fig.add_subplot(111)\n",
    "    plt.yscale('log')\n",
    "    bp = ax.boxplot(temporal_units)\n",
    "    #bp = plt.boxplot(temporal_units)\n",
    "    fig.savefig(f'{unit}_2012-2018.png', bbox_inches='tight')\n",
    "    del fig, bp, monthly_units, temporal_units\n",
    "                    "
   ]
  },
  {
   "cell_type": "code",
   "execution_count": 30,
   "metadata": {},
   "outputs": [
    {
     "name": "stdout",
     "output_type": "stream",
     "text": [
      "['04', '05', '06', '07', '08', '09', '10', '11', '12']\n"
     ]
    }
   ],
   "source": [
    "print(months)"
   ]
  }
 ],
 "metadata": {
  "kernelspec": {
   "display_name": "Python 3",
   "language": "python",
   "name": "python3"
  },
  "language_info": {
   "codemirror_mode": {
    "name": "ipython",
    "version": 3
   },
   "file_extension": ".py",
   "mimetype": "text/x-python",
   "name": "python",
   "nbconvert_exporter": "python",
   "pygments_lexer": "ipython3",
   "version": "3.6.7"
  }
 },
 "nbformat": 4,
 "nbformat_minor": 2
}
