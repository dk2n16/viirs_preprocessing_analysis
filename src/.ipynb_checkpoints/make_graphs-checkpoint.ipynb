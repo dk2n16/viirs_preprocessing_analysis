{
 "cells": [
  {
   "cell_type": "code",
   "execution_count": 146,
   "metadata": {},
   "outputs": [
    {
     "ename": "SyntaxError",
     "evalue": "invalid syntax (<ipython-input-146-e44a12bb3894>, line 22)",
     "output_type": "error",
     "traceback": [
      "\u001b[0;36m  File \u001b[0;32m\"<ipython-input-146-e44a12bb3894>\"\u001b[0;36m, line \u001b[0;32m22\u001b[0m\n\u001b[0;31m    for year in ['2016']\u001b[0m\n\u001b[0m                        ^\u001b[0m\n\u001b[0;31mSyntaxError\u001b[0m\u001b[0;31m:\u001b[0m invalid syntax\n"
     ]
    }
   ],
   "source": [
    "from pathlib import Path\n",
    "import numpy as np\n",
    "import pandas as pd\n",
    "import rasterio\n",
    "import seaborn as sns\n",
    "import matplotlib as mpl\n",
    "import matplotlib.pyplot as plt \n",
    "from sklearn.preprocessing import scale\n",
    "\n",
    "BASEDIR = Path('.').resolve().parent\n",
    "#adm_units = sorted(['_'.join(x.name.split('_')[:3]) for x in BASEDIR.joinpath('datain/HTI/2012/04/subnational/l1').iterdir() if x.name.endswith('.tif')])\n",
    "adm_units = ['HTI_Artibonite_1149']\n",
    "#months = sorted([x.name for x in BASEDIR.joinpath('datain/HTI/2013').iterdir() if not 'Annual' in x.name])\n",
    "months = ['05','06','07']\n",
    "years = sorted([x.name for x in BASEDIR.joinpath('datain/HTI').iterdir()])\n",
    "\n",
    "for unit in adm_units:\n",
    "    temporal_units = []\n",
    "    data_array = np.array\n",
    "    for month in months:\n",
    "        #for year in years:\n",
    "        for year in ['2016']:\n",
    "            raster = BASEDIR.joinpath(f'datain/HTI/{year}/{month}/subnational/l1/{unit}_{month}_{year}.tif')\n",
    "            if raster.exists():\n",
    "                with rasterio.open(raster) as src:\n",
    "                    data = src.read()\n",
    "                    print(data.shape)\n",
    "                    #data[data == -99999] = np.nan\n",
    "                    data = data[np.where((data!= -99999)& (data!=0))]\n",
    "                    #data = data[data >=0]\n",
    "                    #data = data.reshape(data.shape[1]*data.shape[0])\n",
    "                    #data = data[data<data.std()]\n",
    "                    \n",
    "                    temporal_units.append(data)\n",
    "                    print(data.shape)\n",
    "                print(raster.name)\n",
    "    #stack = np.stack(temporal_units)\n",
    "    #stack = np.array(temporal_units)\n",
    "    stack = np.concatenate(tuple(temporal_units), axis=0)\n",
    "    print(stack.shape)\n",
    "#stack = (stack - stack.min())/(stack.max() - stack.min())\n",
    "sns.boxplot(data=stack)\n",
    "print(stack.mean())\n",
    "print(stack.std())\n",
    "#sns.distplot(stack)    "
   ]
  },
  {
   "cell_type": "code",
   "execution_count": 140,
   "metadata": {},
   "outputs": [
    {
     "name": "stdout",
     "output_type": "stream",
     "text": [
      "(2000000,)\n"
     ]
    },
    {
     "data": {
      "image/png": "[encoded data removed]",
      "text/plain": [
       "<Figure size 648x432 with 1 Axes>"
      ]
     },
     "metadata": {
      "needs_background": "light"
     },
     "output_type": "display_data"
    }
   ],
   "source": [
    "## Create data\n",
    "np.random.seed(10)\n",
    "collectn_1 = np.random.normal(100, 10, 2000000)\n",
    "collectn_2 = np.random.normal(80, 30, 2000000)\n",
    "collectn_3 = np.random.normal(90, 20, 2000000)\n",
    "collectn_4 = np.random.normal(70, 25, 2000000)\n",
    "print(collectn_1.shape)\n",
    "## combine these different collections into a list    \n",
    "data_to_plot = [collectn_1, collectn_2, collectn_3, collectn_4]\n",
    "#data_to_plot = [data]\n",
    "\n",
    "\n",
    "# Create a figure instance\n",
    "fig = plt.figure(1, figsize=(9, 6))\n",
    "\n",
    "# Create an axes instance\n",
    "ax = fig.add_subplot(111)\n",
    "plt.yscale('log')\n",
    "# Create the boxplot\n",
    "#bp = ax.boxplot(data_to_plot)\n",
    "bp = ax.boxplot(stack)\n",
    "\n",
    "# Save the figure\n",
    "fig.savefig('fig4_log.png', bbox_inches='tight')"
   ]
  }
 ],
 "metadata": {
  "kernelspec": {
   "display_name": "Python 3",
   "language": "python",
   "name": "python3"
  },
  "language_info": {
   "codemirror_mode": {
    "name": "ipython",
    "version": 3
   },
   "file_extension": ".py",
   "mimetype": "text/x-python",
   "name": "python",
   "nbconvert_exporter": "python",
   "pygments_lexer": "ipython3",
   "version": "3.6.7"
  }
 },
 "nbformat": 4,
 "nbformat_minor": 2
}
